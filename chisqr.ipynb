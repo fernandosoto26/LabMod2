{
 "cells": [
  {
   "cell_type": "code",
   "execution_count": 9,
   "metadata": {},
   "outputs": [
    {
     "name": "stdout",
     "output_type": "stream",
     "text": [
      "Ax es 0.73\n",
      "B es 96.20\n",
      "chi-sq es:  98020.05\n",
      "chi-sq mini es:  4261.74\n"
     ]
    },
    {
     "data": {
      "image/png": "[encoded data removed]",
      "text/plain": [
       "<Figure size 432x288 with 1 Axes>"
      ]
     },
     "metadata": {},
     "output_type": "display_data"
    }
   ],
   "source": [
    "import random # números aleatorios\n",
    "import math #funciones matematicas estandar.\n",
    "import matplotlib.pyplot #Para visualizaciones y gráficos.  \n",
    "import numpy #funciones estadísticas \n",
    "import seaborn as sns #para gráficos estadísticos.\n",
    "from mpl_toolkits.mplot3d import axes3d #permite hacer graficas en 3D \n",
    "import pandas as pd\n",
    "from scipy.optimize import curve_fit\n",
    "\n",
    "\n",
    "#Datos usados en minimos cuadrados\n",
    "df = pd.read_csv(\"datos.txt\") #archivo .txt de los datos\n",
    "tab = pd.crosstab(df[\"xvalor\"],df[\"yvalor\"],margins=True)  #Crea tabla (conocidas como crosstabs) en pandas\n",
    "xd=df[\"xvalor\"] #definiendo valor de x\n",
    "yd= df[\"yvalor\"] #definiendo valor de y\n",
    "xerror =df[\"xerror\"] #error x\n",
    "yerror =df[\"yerror\"] #error y\n",
    "\n",
    "#funcion \n",
    "def func(x, a, b):\n",
    "    return a*x + b #funcion deseada\n",
    "\n",
    "#ctes del modelo\n",
    "p , q= curve_fit(func, xd, yd)\n",
    "print 'Ax es',(\"%.2f\" %p[0])\n",
    "print 'B es',(\"%.2f\" %p[1])\n",
    "\n",
    "#Obtener Chisq y chisqmin\n",
    "chisq = numpy.sum((func(xd, *p)-yd)**2) \n",
    "chisqmini = (chisq)/(len(xd)-len(p)) \n",
    "print 'chi-sq es: ',(\"%.2f\" %chisq)\n",
    "print 'chi-sq mini es: ',(\"%.2f\" %chisqmini)\n",
    "\n",
    "\n",
    "\n",
    "matplotlib.pyplot.figure()\n",
    "matplotlib.pyplot.scatter(xd, yd, s=0)\n",
    "matplotlib.pyplot.plot(xd,func(xd, *p))\n",
    "matplotlib.pyplot.errorbar(xd, yd, xerr=xerror, yerr=yerror, linestyle=\"\", color='red')\n",
    "matplotlib.pyplot.show()"
   ]
  },
  {
   "cell_type": "code",
   "execution_count": null,
   "metadata": {},
   "outputs": [],
   "source": []
  }
 ],
 "metadata": {
  "kernelspec": {
   "display_name": "Python 2",
   "language": "python",
   "name": "python2"
  },
  "language_info": {
   "codemirror_mode": {
    "name": "ipython",
    "version": 2
   },
   "file_extension": ".py",
   "mimetype": "text/x-python",
   "name": "python",
   "nbconvert_exporter": "python",
   "pygments_lexer": "ipython2",
   "version": "2.7.15"
  }
 },
 "nbformat": 4,
 "nbformat_minor": 2
}
