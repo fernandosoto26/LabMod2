{
 "cells": [
  {
   "cell_type": "code",
   "execution_count": 9,
   "metadata": {},
   "outputs": [
    {
     "name": "stdout",
     "output_type": "stream",
     "text": [
      "Obtenemos grafica de la forma AX + B\n",
      " \n",
      "0.7293 x + 96.2\n"
     ]
    },
    {
     "data": {
      "image/png": "[encoded data removed]",
      "text/plain": [
       "<Figure size 432x288 with 1 Axes>"
      ]
     },
     "metadata": {},
     "output_type": "display_data"
    }
   ],
   "source": [
    "#---------------------------------------------------------\n",
    "#---Es para hacer el fit de una funcion\n",
    "#---minimos cuadrados\n",
    "#---------------------------------------------------------\n",
    "#-----TODAS LAS LIBRERIAS QUE PODRIAN SER DE UTILIDAD-----\n",
    "import random #proporciona un generador de números aleatorios\n",
    "import math #Provee acceso a funciones matematicas estandar.\n",
    "from matplotlib import pyplot as plt #Para visualizaciones y gráficos. Nos va a permitir realizar los gráficos de las distintas distribuciones de datos.\n",
    "import numpy as np #proporciona algunas funciones estadísticas que podemos aplicar fácilmente sobre los arrays de Numpy.\n",
    "import seaborn as sns # importando seaborn; Esta librería es un complemento ideal de matplotlib para realizar gráficos estadísticos.\n",
    "import pandas as pd #librería para análisis de datos y financieros. Posee funciones de estadística descriptiva sobre nuestros datos y\n",
    "from mpl_toolkits.mplot3d import axes3d #permite hacer graficas en 3D, suministrando ejes a nuestro objeto\n",
    "\n",
    "df = pd.read_csv(\"datos.txt\") #Leer el archivo .txt donde se encuentran los datos que vamos a graficar\n",
    "\n",
    "tab = pd.crosstab(df[\"xvalor\"],df[\"yvalor\"],margins=True)  #Crea tabla (conocidas como crosstabs) en pandas\n",
    "x=df[\"xvalor\"] #definiendo valor de x\n",
    "y= df[\"yvalor\"] #definiendo valor de y\n",
    "#F1 = [ 0.1, 0.2, 0.3, 0.4, 0.5, 0.6 ] #x coordenada: tambien se pueden introducir los puntos\n",
    "#r1 = [ 1, 2, 3, 4, 5, 6 ] #y coordenada\n",
    "\n",
    "y1 = np.polyfit(x, y, 1) # se usara la funcion fit por facilidad, el 1 al final denota un fit linear \n",
    "                          # Si queremos fit polinomial cambiamos 2,3... \n",
    "y2 = np.poly1d(y1)  #Crea un polinomio, es decir proveniente del fit  \n",
    " \n",
    "plt.plot(x,y,'o', markersize=5)  # grafica los puntos de los datos \n",
    "plt.plot(x, y2(x)) # grafica el fit\n",
    "#print(x,y) #si quisieramos imprimir los datos x,y \n",
    "#print(y1)  \n",
    "print(\"Obtenemos grafica de la forma AX + B\")\n",
    "print(y2)\n"
   ]
  },
  {
   "cell_type": "code",
   "execution_count": null,
   "metadata": {},
   "outputs": [],
   "source": []
  }
 ],
 "metadata": {
  "kernelspec": {
   "display_name": "Python 2",
   "language": "python",
   "name": "python2"
  },
  "language_info": {
   "codemirror_mode": {
    "name": "ipython",
    "version": 2
   },
   "file_extension": ".py",
   "mimetype": "text/x-python",
   "name": "python",
   "nbconvert_exporter": "python",
   "pygments_lexer": "ipython2",
   "version": "2.7.15"
  }
 },
 "nbformat": 4,
 "nbformat_minor": 2
}
